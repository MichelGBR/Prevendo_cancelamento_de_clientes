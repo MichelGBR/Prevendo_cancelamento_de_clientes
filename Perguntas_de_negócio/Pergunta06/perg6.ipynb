{
 "cells": [
  {
   "cell_type": "code",
   "execution_count": 1,
   "metadata": {},
   "outputs": [],
   "source": [
    "import pandas as pd\n",
    "\n",
    "dados = pd.read_csv(\"C:/Users/marce/ansel/Desktop/dados_gerais.csv\")\n",
    "\n"
   ]
  },
  {
   "cell_type": "code",
   "execution_count": 2,
   "metadata": {},
   "outputs": [
    {
     "data": {
      "text/plain": [
       "count      6166.000000\n",
       "mean     100584.054006\n",
       "std       57394.639773\n",
       "min          11.000000\n",
       "25%       51644.500000\n",
       "50%      100966.000000\n",
       "75%      149584.000000\n",
       "max      199970.000000\n",
       "Name: salario_estimado, dtype: float64"
      ]
     },
     "execution_count": 2,
     "metadata": {},
     "output_type": "execute_result"
    }
   ],
   "source": [
    "\"\"\"6 - Qual a média de salários?\"\"\"\n",
    "\n",
    "dados[\"salario_estimado\"].describe()\n",
    "\n",
    "# a média é 100.584"
   ]
  }
 ],
 "metadata": {
  "kernelspec": {
   "display_name": "Python 3",
   "language": "python",
   "name": "python3"
  },
  "language_info": {
   "codemirror_mode": {
    "name": "ipython",
    "version": 3
   },
   "file_extension": ".py",
   "mimetype": "text/x-python",
   "name": "python",
   "nbconvert_exporter": "python",
   "pygments_lexer": "ipython3",
   "version": "3.11.7"
  }
 },
 "nbformat": 4,
 "nbformat_minor": 2
}
