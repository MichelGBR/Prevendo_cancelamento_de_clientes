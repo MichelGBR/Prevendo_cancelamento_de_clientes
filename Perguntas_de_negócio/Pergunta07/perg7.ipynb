{
 "cells": [
  {
   "cell_type": "code",
   "execution_count": 1,
   "metadata": {},
   "outputs": [],
   "source": [
    "import pandas as pd\n",
    "\n",
    "dados = pd.read_csv(\"C:/Users/marce/ansel/Desktop/dados_gerais.csv\")\n",
    "\n",
    "dadosoff = pd.read_csv(\"C:/Users/marce/ansel/Desktop/dados_off.csv\")"
   ]
  },
  {
   "cell_type": "code",
   "execution_count": 4,
   "metadata": {},
   "outputs": [
    {
     "data": {
      "text/plain": [
       "count    3018.000000\n",
       "mean      648.766733\n",
       "std        97.312896\n",
       "min       399.000000\n",
       "25%       581.000000\n",
       "50%       650.000000\n",
       "75%       717.000000\n",
       "max       850.000000\n",
       "Name: pontuacao_de_credito, dtype: float64"
      ]
     },
     "execution_count": 4,
     "metadata": {},
     "output_type": "execute_result"
    }
   ],
   "source": [
    "\"\"\"7 - Qual a média de pontos de crédito para membros inativos?\"\"\"\n",
    "\n",
    "dadosoff[\"pontuacao_de_credito\"].describe()\n",
    "\n",
    "# a média é 648,76"
   ]
  }
 ],
 "metadata": {
  "kernelspec": {
   "display_name": "Python 3",
   "language": "python",
   "name": "python3"
  },
  "language_info": {
   "codemirror_mode": {
    "name": "ipython",
    "version": 3
   },
   "file_extension": ".py",
   "mimetype": "text/x-python",
   "name": "python",
   "nbconvert_exporter": "python",
   "pygments_lexer": "ipython3",
   "version": "3.11.7"
  }
 },
 "nbformat": 4,
 "nbformat_minor": 2
}
